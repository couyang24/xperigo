{
 "cells": [
  {
   "cell_type": "markdown",
   "metadata": {
    "collapsed": true
   },
   "source": [
    "# NYC Car Accident Analysis\n",
    "Chengran Ouyang\n",
    "\n",
    "2019-04-24\n",
    "\n",
    "## Step 1: Define the Problem\n",
    "Requirement:\n",
    "\n",
    "1. Download the data, and load it in Pycharm and provide initial overview information.\n",
    "\n",
    "2. Visualize the location of the car accidents.\n",
    "\n",
    "3. Find out the insight from the dataset (i.e. Location/ Time of Day)\n",
    "\n",
    "4. Take "
   ]
  },
  {
   "cell_type": "code",
   "execution_count": null,
   "metadata": {},
   "outputs": [],
   "source": [
    "print('sdf')"
   ]
  },
  {
   "cell_type": "code",
   "execution_count": null,
   "metadata": {},
   "outputs": [],
   "source": []
  },
  {
   "cell_type": "code",
   "execution_count": null,
   "metadata": {},
   "outputs": [],
   "source": []
  }
 ],
 "metadata": {
  "kernelspec": {
   "display_name": "Python 3",
   "language": "python",
   "name": "python3"
  },
  "language_info": {
   "codemirror_mode": {
    "name": "ipython",
    "version": 3
   },
   "file_extension": ".py",
   "mimetype": "text/x-python",
   "name": "python",
   "nbconvert_exporter": "python",
   "pygments_lexer": "ipython3",
   "version": "3.6.3"
  }
 },
 "nbformat": 4,
 "nbformat_minor": 1
}
